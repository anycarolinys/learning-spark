{
 "cells": [
  {
   "cell_type": "code",
   "execution_count": 1,
   "id": "0232eae9",
   "metadata": {},
   "outputs": [],
   "source": [
    "import findspark\n",
    "findspark.init('/home/anycaroliny/spark-3.3.2-bin-hadoop3')"
   ]
  },
  {
   "cell_type": "code",
   "execution_count": 2,
   "id": "8c2bb2c8",
   "metadata": {},
   "outputs": [],
   "source": [
    "from pyspark.sql import SparkSession"
   ]
  },
  {
   "cell_type": "code",
   "execution_count": 3,
   "id": "c58abddb",
   "metadata": {},
   "outputs": [
    {
     "name": "stdout",
     "output_type": "stream",
     "text": [
      "23/03/24 15:11:07 WARN Utils: Your hostname, anycaroliny-VirtualBox resolves to a loopback address: 127.0.1.1; using 10.0.2.15 instead (on interface enp0s3)\n",
      "23/03/24 15:11:07 WARN Utils: Set SPARK_LOCAL_IP if you need to bind to another address\n"
     ]
    },
    {
     "name": "stderr",
     "output_type": "stream",
     "text": [
      "Setting default log level to \"WARN\".\n",
      "To adjust logging level use sc.setLogLevel(newLevel). For SparkR, use setLogLevel(newLevel).\n"
     ]
    },
    {
     "name": "stdout",
     "output_type": "stream",
     "text": [
      "23/03/24 15:11:14 WARN NativeCodeLoader: Unable to load native-hadoop library for your platform... using builtin-java classes where applicable\n"
     ]
    }
   ],
   "source": [
    "spark = SparkSession.builder.appName('lr_ecample').getOrCreate()"
   ]
  },
  {
   "cell_type": "code",
   "execution_count": 5,
   "id": "04645a4e",
   "metadata": {},
   "outputs": [],
   "source": [
    "from pyspark.ml.regression import LinearRegression"
   ]
  },
  {
   "cell_type": "code",
   "execution_count": 7,
   "id": "06631821",
   "metadata": {},
   "outputs": [],
   "source": [
    "data = spark.read.csv('Ecommerce_Customers.csv', inferSchema=True, header=True)"
   ]
  },
  {
   "cell_type": "code",
   "execution_count": 8,
   "id": "30296a8c",
   "metadata": {},
   "outputs": [
    {
     "name": "stdout",
     "output_type": "stream",
     "text": [
      "root\n",
      " |-- Email: string (nullable = true)\n",
      " |-- Address: string (nullable = true)\n",
      " |-- Avatar: string (nullable = true)\n",
      " |-- Avg Session Length: double (nullable = true)\n",
      " |-- Time on App: double (nullable = true)\n",
      " |-- Time on Website: double (nullable = true)\n",
      " |-- Length of Membership: double (nullable = true)\n",
      " |-- Yearly Amount Spent: double (nullable = true)\n",
      "\n"
     ]
    }
   ],
   "source": [
    "data.printSchema()"
   ]
  },
  {
   "cell_type": "code",
   "execution_count": 19,
   "id": "ce2ee6bc",
   "metadata": {},
   "outputs": [
    {
     "name": "stdout",
     "output_type": "stream",
     "text": [
      "pallen@yahoo.com\n",
      "24645 Valerie Unions Suite 582Cobbborough, DC 99414-7564\n",
      "Bisque\n",
      "33.000914755642675\n",
      "11.330278057777512\n",
      "37.110597442120856\n",
      "4.104543202376424\n",
      "487.54750486747207\n"
     ]
    }
   ],
   "source": [
    "# data.show()\n",
    "# data.head(1)\n",
    "\n",
    "for item in data.head(3)[2]:\n",
    "    print(item)"
   ]
  },
  {
   "cell_type": "code",
   "execution_count": 24,
   "id": "2cf38028",
   "metadata": {},
   "outputs": [],
   "source": [
    "from pyspark.ml.linalg import Vectors\n",
    "from pyspark.ml.feature import VectorAssembler"
   ]
  },
  {
   "cell_type": "code",
   "execution_count": 25,
   "id": "cb8d26cd",
   "metadata": {},
   "outputs": [
    {
     "data": {
      "text/plain": [
       "['Email',\n",
       " 'Address',\n",
       " 'Avatar',\n",
       " 'Avg Session Length',\n",
       " 'Time on App',\n",
       " 'Time on Website',\n",
       " 'Length of Membership',\n",
       " 'Yearly Amount Spent']"
      ]
     },
     "execution_count": 25,
     "metadata": {},
     "output_type": "execute_result"
    }
   ],
   "source": [
    "data.columns"
   ]
  },
  {
   "cell_type": "code",
   "execution_count": 27,
   "id": "bf8af243",
   "metadata": {},
   "outputs": [],
   "source": [
    "assembler = VectorAssembler(inputCols=[ 'Avg Session Length',\n",
    " 'Time on App',\n",
    " 'Time on Website',\n",
    " 'Length of Membership'],outputCol='features') # this is what to expect"
   ]
  },
  {
   "cell_type": "code",
   "execution_count": 28,
   "id": "c4cfa442",
   "metadata": {},
   "outputs": [],
   "source": [
    "output = assembler.transform(data)# transforming the data"
   ]
  },
  {
   "cell_type": "code",
   "execution_count": 30,
   "id": "62523ce3",
   "metadata": {},
   "outputs": [
    {
     "name": "stdout",
     "output_type": "stream",
     "text": [
      "root\n",
      " |-- Email: string (nullable = true)\n",
      " |-- Address: string (nullable = true)\n",
      " |-- Avatar: string (nullable = true)\n",
      " |-- Avg Session Length: double (nullable = true)\n",
      " |-- Time on App: double (nullable = true)\n",
      " |-- Time on Website: double (nullable = true)\n",
      " |-- Length of Membership: double (nullable = true)\n",
      " |-- Yearly Amount Spent: double (nullable = true)\n",
      " |-- features: vector (nullable = true)\n",
      "\n"
     ]
    }
   ],
   "source": [
    "type(output)\n",
    "output.printSchema()"
   ]
  },
  {
   "cell_type": "code",
   "execution_count": 41,
   "id": "90bd3998",
   "metadata": {},
   "outputs": [
    {
     "name": "stdout",
     "output_type": "stream",
     "text": [
      "[12.65565114916675, 39.57766801952616, 4.0826206329529615, 587.9510539684005]\n"
     ]
    }
   ],
   "source": [
    "features_list = [output.head(1)[0][4],output.head(1)[0][5],output.head(1)[0][6],output.head(1)[0][7]]\n",
    "print(features_list)\n",
    "# output.head(1)[0][8]"
   ]
  },
  {
   "cell_type": "code",
   "execution_count": 42,
   "id": "afc06073",
   "metadata": {},
   "outputs": [],
   "source": [
    "final_data = output.select('features', 'Yearly Amount Spent')"
   ]
  },
  {
   "cell_type": "code",
   "execution_count": 43,
   "id": "f1030c5c",
   "metadata": {},
   "outputs": [
    {
     "name": "stdout",
     "output_type": "stream",
     "text": [
      "+--------------------+-------------------+\n",
      "|            features|Yearly Amount Spent|\n",
      "+--------------------+-------------------+\n",
      "|[34.4972677251122...|  587.9510539684005|\n",
      "|[31.9262720263601...|  392.2049334443264|\n",
      "|[33.0009147556426...| 487.54750486747207|\n",
      "|[34.3055566297555...|  581.8523440352177|\n",
      "|[33.3306725236463...|  599.4060920457634|\n",
      "|[33.8710378793419...|   637.102447915074|\n",
      "|[32.0215955013870...|  521.5721747578274|\n",
      "|[32.7391429383803...|  549.9041461052942|\n",
      "|[33.9877728956856...|  570.2004089636196|\n",
      "|[31.9365486184489...|  427.1993848953282|\n",
      "|[33.9925727749537...|  492.6060127179966|\n",
      "|[33.8793608248049...|  522.3374046069357|\n",
      "|[29.5324289670579...|  408.6403510726275|\n",
      "|[33.1903340437226...|  573.4158673313865|\n",
      "|[32.3879758531538...|  470.4527333009554|\n",
      "|[30.7377203726281...|  461.7807421962299|\n",
      "|[32.1253868972878...| 457.84769594494855|\n",
      "|[32.3388993230671...| 407.70454754954415|\n",
      "|[32.1878120459321...|  452.3156754800354|\n",
      "|[32.6178560628234...|   605.061038804892|\n",
      "+--------------------+-------------------+\n",
      "only showing top 20 rows\n",
      "\n"
     ]
    }
   ],
   "source": [
    "final_data.show()"
   ]
  },
  {
   "cell_type": "code",
   "execution_count": 44,
   "id": "b62a1401",
   "metadata": {},
   "outputs": [],
   "source": [
    "training_data, test_data = final_data.randomSplit([0.7,0.3])"
   ]
  },
  {
   "cell_type": "code",
   "execution_count": 45,
   "id": "d9982ed3",
   "metadata": {},
   "outputs": [
    {
     "name": "stdout",
     "output_type": "stream",
     "text": [
      "+-------+-------------------+\n",
      "|summary|Yearly Amount Spent|\n",
      "+-------+-------------------+\n",
      "|  count|                341|\n",
      "|   mean|  500.0632568497705|\n",
      "| stddev|  79.61531464078932|\n",
      "|    min| 256.67058229005585|\n",
      "|    max|  765.5184619388373|\n",
      "+-------+-------------------+\n",
      "\n"
     ]
    }
   ],
   "source": [
    "training_data.describe().show()"
   ]
  },
  {
   "cell_type": "code",
   "execution_count": 46,
   "id": "549d6af0",
   "metadata": {},
   "outputs": [
    {
     "name": "stdout",
     "output_type": "stream",
     "text": [
      "+-------+-------------------+\n",
      "|summary|Yearly Amount Spent|\n",
      "+-------+-------------------+\n",
      "|  count|                159|\n",
      "|   mean| 497.70722354417364|\n",
      "| stddev|  78.89269644280506|\n",
      "|    min|  275.9184206503857|\n",
      "|    max|  725.5848140556806|\n",
      "+-------+-------------------+\n",
      "\n"
     ]
    }
   ],
   "source": [
    "test_data.describe().show()"
   ]
  },
  {
   "cell_type": "code",
   "execution_count": 48,
   "id": "aa771367",
   "metadata": {},
   "outputs": [],
   "source": [
    "lr = LinearRegression(labelCol='Yearly Amount Spent')"
   ]
  },
  {
   "cell_type": "code",
   "execution_count": 50,
   "id": "37e7a47d",
   "metadata": {},
   "outputs": [
    {
     "name": "stdout",
     "output_type": "stream",
     "text": [
      "23/03/24 15:41:10 WARN Instrumentation: [fdab5f18] regParam is zero, which might cause numerical instability and overfitting.\n",
      "23/03/24 15:41:10 WARN InstanceBuilder$NativeBLAS: Failed to load implementation from:dev.ludovic.netlib.blas.JNIBLAS\n",
      "23/03/24 15:41:10 WARN InstanceBuilder$NativeBLAS: Failed to load implementation from:dev.ludovic.netlib.blas.ForeignLinkerBLAS\n",
      "23/03/24 15:41:10 WARN InstanceBuilder$NativeLAPACK: Failed to load implementation from:dev.ludovic.netlib.lapack.JNILAPACK\n"
     ]
    }
   ],
   "source": [
    "lr_model = lr.fit(training_data)"
   ]
  },
  {
   "cell_type": "code",
   "execution_count": 53,
   "id": "f352bb4a",
   "metadata": {},
   "outputs": [],
   "source": [
    "test_results = lr_model.evaluate(test_data)"
   ]
  },
  {
   "cell_type": "code",
   "execution_count": 54,
   "id": "7faed0fa",
   "metadata": {},
   "outputs": [
    {
     "name": "stdout",
     "output_type": "stream",
     "text": [
      "+--------------------+\n",
      "|           residuals|\n",
      "+--------------------+\n",
      "|  11.024319385117451|\n",
      "|-0.31891099351548746|\n",
      "|  -5.037718024789285|\n",
      "|  -6.028952903411778|\n",
      "| -1.9734294086475757|\n",
      "| -1.7836382491427116|\n",
      "|  -3.927606037105761|\n",
      "| -16.671766043973605|\n",
      "|  -2.436565872269739|\n",
      "|  11.474552612601713|\n",
      "|   7.678927313969439|\n",
      "| -17.637855542251373|\n",
      "|   4.799398761974317|\n",
      "|-0.23942238369733104|\n",
      "|  -8.663540666469316|\n",
      "|    4.20852003595644|\n",
      "|   1.908954570929609|\n",
      "|   5.461345954890817|\n",
      "|   5.148969778975015|\n",
      "|  16.801136869270408|\n",
      "+--------------------+\n",
      "only showing top 20 rows\n",
      "\n"
     ]
    }
   ],
   "source": [
    "test_results.residuals.show()"
   ]
  },
  {
   "cell_type": "code",
   "execution_count": 55,
   "id": "2f537113",
   "metadata": {},
   "outputs": [
    {
     "data": {
      "text/plain": [
       "9.72076191285621"
      ]
     },
     "execution_count": 55,
     "metadata": {},
     "output_type": "execute_result"
    }
   ],
   "source": [
    "test_results.rootMeanSquaredError"
   ]
  },
  {
   "cell_type": "code",
   "execution_count": 57,
   "id": "4490831a",
   "metadata": {},
   "outputs": [
    {
     "data": {
      "text/plain": [
       "0.9847219808498594"
      ]
     },
     "execution_count": 57,
     "metadata": {},
     "output_type": "execute_result"
    }
   ],
   "source": [
    "test_results.r2"
   ]
  },
  {
   "cell_type": "code",
   "execution_count": 58,
   "id": "49693463",
   "metadata": {},
   "outputs": [],
   "source": [
    "unlabeled_data = test_data.select('features')"
   ]
  },
  {
   "cell_type": "code",
   "execution_count": 59,
   "id": "11b71652",
   "metadata": {},
   "outputs": [
    {
     "name": "stdout",
     "output_type": "stream",
     "text": [
      "+--------------------+\n",
      "|            features|\n",
      "+--------------------+\n",
      "|[31.1695067987115...|\n",
      "|[31.2606468698795...|\n",
      "|[31.5171218025062...|\n",
      "|[31.5257524169682...|\n",
      "|[31.5761319713222...|\n",
      "|[31.7216523605090...|\n",
      "|[31.8124825597242...|\n",
      "|[31.8164283341993...|\n",
      "|[31.8530748017465...|\n",
      "|[31.9262720263601...|\n",
      "|[31.9549038566348...|\n",
      "|[31.9563005605233...|\n",
      "|[31.9764800614612...|\n",
      "|[32.0047530203648...|\n",
      "|[32.0085045178551...|\n",
      "|[32.0215955013870...|\n",
      "|[32.0444861274404...|\n",
      "|[32.0478009788678...|\n",
      "|[32.0542618511847...|\n",
      "|[32.0609143984100...|\n",
      "+--------------------+\n",
      "only showing top 20 rows\n",
      "\n"
     ]
    }
   ],
   "source": [
    "unlabeled_data.show()"
   ]
  },
  {
   "cell_type": "code",
   "execution_count": 60,
   "id": "72b6038f",
   "metadata": {},
   "outputs": [],
   "source": [
    "predictions = lr_model.transform(unlabeled_data)"
   ]
  },
  {
   "cell_type": "code",
   "execution_count": 61,
   "id": "661a8efe",
   "metadata": {},
   "outputs": [
    {
     "name": "stdout",
     "output_type": "stream",
     "text": [
      "+--------------------+------------------+\n",
      "|            features|        prediction|\n",
      "+--------------------+------------------+\n",
      "|[31.1695067987115...|416.33221141717536|\n",
      "|[31.2606468698795...|421.64554225046686|\n",
      "|[31.5171218025062...|  280.956138675175|\n",
      "|[31.5257524169682...|449.99457971329366|\n",
      "|[31.5761319713222...| 543.2000133979759|\n",
      "|[31.7216523605090...|349.56056488101535|\n",
      "|[31.8124825597242...|  396.737951020903|\n",
      "|[31.8164283341993...|   517.79425754763|\n",
      "|[31.8530748017465...| 461.7216893346217|\n",
      "|[31.9262720263601...| 380.7303808317247|\n",
      "|[31.9549038566348...|432.31895262595754|\n",
      "|[31.9563005605233...| 564.7637872894502|\n",
      "|[31.9764800614612...| 325.7950472721259|\n",
      "|[32.0047530203648...|463.98540350432677|\n",
      "|[32.0085045178551...| 451.8607616952247|\n",
      "|[32.0215955013870...|  517.363654721871|\n",
      "|[32.0444861274404...|446.32087461562037|\n",
      "|[32.0478009788678...|507.98922523120564|\n",
      "|[32.0542618511847...|  556.725687890008|\n",
      "|[32.0609143984100...| 610.8021818437446|\n",
      "+--------------------+------------------+\n",
      "only showing top 20 rows\n",
      "\n"
     ]
    }
   ],
   "source": [
    "predictions.show()"
   ]
  },
  {
   "cell_type": "code",
   "execution_count": null,
   "id": "3084a7d2",
   "metadata": {},
   "outputs": [],
   "source": []
  }
 ],
 "metadata": {
  "kernelspec": {
   "display_name": "Python 3 (ipykernel)",
   "language": "python",
   "name": "python3"
  },
  "language_info": {
   "codemirror_mode": {
    "name": "ipython",
    "version": 3
   },
   "file_extension": ".py",
   "mimetype": "text/x-python",
   "name": "python",
   "nbconvert_exporter": "python",
   "pygments_lexer": "ipython3",
   "version": "3.10.6"
  }
 },
 "nbformat": 4,
 "nbformat_minor": 5
}
