{
 "cells": [
  {
   "cell_type": "code",
   "execution_count": 1,
   "id": "4536cda2",
   "metadata": {},
   "outputs": [
    {
     "name": "stdout",
     "output_type": "stream",
     "text": [
      "23/07/05 15:16:24 WARN Utils: Your hostname, anycaroliny-VirtualBox resolves to a loopback address: 127.0.1.1; using 10.0.2.15 instead (on interface enp0s3)\n",
      "23/07/05 15:16:24 WARN Utils: Set SPARK_LOCAL_IP if you need to bind to another address\n"
     ]
    },
    {
     "name": "stderr",
     "output_type": "stream",
     "text": [
      "Setting default log level to \"WARN\".\n",
      "To adjust logging level use sc.setLogLevel(newLevel). For SparkR, use setLogLevel(newLevel).\n"
     ]
    },
    {
     "name": "stdout",
     "output_type": "stream",
     "text": [
      "23/07/05 15:16:25 WARN NativeCodeLoader: Unable to load native-hadoop library for your platform... using builtin-java classes where applicable\n",
      "23/07/05 15:16:27 WARN Utils: Service 'SparkUI' could not bind on port 4040. Attempting port 4041.\n"
     ]
    }
   ],
   "source": [
    "import pyspark\n",
    "from pyspark.sql import SparkSession\n",
    "spark = SparkSession.builder.appName(\"SParkApp\").getOrCreate()"
   ]
  },
  {
   "cell_type": "code",
   "execution_count": 11,
   "id": "69d5a85c",
   "metadata": {},
   "outputs": [],
   "source": [
    "arqschema = \"id INT, nome STRING, status STRING, cidade STRING, vendas INT, data STRING\"\n",
    "dfdespachantes = spark.read.csv(\"/home/anycaroliny/download/despachantes.csv\", header=False, schema=arqschema)\n",
    "dfdespachantes.write.saveAsTable(\"tbdespachantes\")"
   ]
  },
  {
   "cell_type": "code",
   "execution_count": 10,
   "id": "e6abe119",
   "metadata": {},
   "outputs": [],
   "source": [
    "reclamacoes_schema = \"id INT, datarec STRING, iddesp INT\"\n",
    "dfreclamacoes = spark.read.csv(\"/home/anycaroliny/download/reclamacoes.csv\", header=False, schema=reclamacoes_schema)\n",
    "dfreclamacoes.write.saveAsTable(\"tbreclamacoes\")"
   ]
  },
  {
   "cell_type": "code",
   "execution_count": 17,
   "id": "46e3f2d0",
   "metadata": {},
   "outputs": [
    {
     "name": "stdout",
     "output_type": "stream",
     "text": [
      "+-------------------+---+----------+------+\n",
      "|               nome| id|   datarec|iddesp|\n",
      "+-------------------+---+----------+------+\n",
      "|    Deolinda Vilela|  1|2020-09-12|     2|\n",
      "|    Deolinda Vilela|  2|2020-09-11|     2|\n",
      "|Felisbela Dornelles|  3|2020-10-05|     4|\n",
      "|     Graça Ornellas|  4|2020-10-02|     5|\n",
      "|     Graça Ornellas|  5|2020-12-06|     5|\n",
      "|     Graça Ornellas|  6|2020-01-09|     5|\n",
      "|      Uriel Queiroz|  7|2020-01-05|     9|\n",
      "+-------------------+---+----------+------+\n",
      "\n"
     ]
    }
   ],
   "source": [
    "# Exibindo o nome de todos os despachantes que possuem reclamacoes\n",
    "spark.sql(\"select tbdespachantes.nome, tbreclamacoes.* from tbreclamacoes join tbdespachantes on (tbreclamacoes.iddesp = tbdespachantes.id)\").show()"
   ]
  },
  {
   "cell_type": "code",
   "execution_count": 19,
   "id": "c67096e5",
   "metadata": {},
   "outputs": [
    {
     "name": "stdout",
     "output_type": "stream",
     "text": [
      "+-------------------+----+----------+------+\n",
      "|               nome|  id|   datarec|iddesp|\n",
      "+-------------------+----+----------+------+\n",
      "|   Carminda Pestana|null|      null|  null|\n",
      "|    Deolinda Vilela|   2|2020-09-11|     2|\n",
      "|    Deolinda Vilela|   1|2020-09-12|     2|\n",
      "|   Emídio Dornelles|null|      null|  null|\n",
      "|Felisbela Dornelles|   3|2020-10-05|     4|\n",
      "|     Graça Ornellas|   6|2020-01-09|     5|\n",
      "|     Graça Ornellas|   5|2020-12-06|     5|\n",
      "|     Graça Ornellas|   4|2020-10-02|     5|\n",
      "|   Matilde Rebouças|null|      null|  null|\n",
      "|    Noêmia   Orriça|null|      null|  null|\n",
      "|      Roque Vásquez|null|      null|  null|\n",
      "|      Uriel Queiroz|   7|2020-01-05|     9|\n",
      "|   Viviana Sequeira|null|      null|  null|\n",
      "+-------------------+----+----------+------+\n",
      "\n"
     ]
    }
   ],
   "source": [
    "# Exibindo o nome de todos os despachantes que possuem reclamacoes\n",
    "spark.sql(\"select tbdespachantes.nome, tbreclamacoes.* from tbdespachantes left join tbreclamacoes on (tbreclamacoes.iddesp = tbdespachantes.id)\").show()"
   ]
  },
  {
   "cell_type": "code",
   "execution_count": 35,
   "id": "ba1df2ff",
   "metadata": {
    "scrolled": true
   },
   "outputs": [
    {
     "name": "stdout",
     "output_type": "stream",
     "text": [
      "+----------+------+-------------------+\n",
      "|   datarec|iddesp|               nome|\n",
      "+----------+------+-------------------+\n",
      "|2020-09-11|     2|    Deolinda Vilela|\n",
      "|2020-09-12|     2|    Deolinda Vilela|\n",
      "|2020-10-05|     4|Felisbela Dornelles|\n",
      "|2020-01-09|     5|     Graça Ornellas|\n",
      "|2020-12-06|     5|     Graça Ornellas|\n",
      "|2020-10-02|     5|     Graça Ornellas|\n",
      "|2020-01-05|     9|      Uriel Queiroz|\n",
      "+----------+------+-------------------+\n",
      "\n"
     ]
    }
   ],
   "source": [
    "dfdespachantes.join(dfreclamacoes, dfdespachantes.id == dfreclamacoes.iddesp, \"inner\").select(\"datarec\", \"iddesp\", \"nome\").show()"
   ]
  },
  {
   "cell_type": "code",
   "execution_count": null,
   "id": "618ef216",
   "metadata": {},
   "outputs": [],
   "source": []
  }
 ],
 "metadata": {
  "kernelspec": {
   "display_name": "Python 3 (ipykernel)",
   "language": "python",
   "name": "python3"
  },
  "language_info": {
   "codemirror_mode": {
    "name": "ipython",
    "version": 3
   },
   "file_extension": ".py",
   "mimetype": "text/x-python",
   "name": "python",
   "nbconvert_exporter": "python",
   "pygments_lexer": "ipython3",
   "version": "3.10.6"
  }
 },
 "nbformat": 4,
 "nbformat_minor": 5
}
