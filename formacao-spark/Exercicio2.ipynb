{
 "cells": [
  {
   "cell_type": "code",
   "execution_count": 3,
   "id": "0b393ac9",
   "metadata": {},
   "outputs": [
    {
     "name": "stdout",
     "output_type": "stream",
     "text": [
      "23/07/06 11:04:42 WARN Utils: Your hostname, anycaroliny-VirtualBox resolves to a loopback address: 127.0.1.1; using 10.0.2.15 instead (on interface enp0s3)\n",
      "23/07/06 11:04:42 WARN Utils: Set SPARK_LOCAL_IP if you need to bind to another address\n"
     ]
    },
    {
     "name": "stderr",
     "output_type": "stream",
     "text": [
      "Setting default log level to \"WARN\".\n",
      "To adjust logging level use sc.setLogLevel(newLevel). For SparkR, use setLogLevel(newLevel).\n"
     ]
    },
    {
     "name": "stdout",
     "output_type": "stream",
     "text": [
      "23/07/06 11:04:43 WARN NativeCodeLoader: Unable to load native-hadoop library for your platform... using builtin-java classes where applicable\n"
     ]
    }
   ],
   "source": [
    "import pyspark\n",
    "from pyspark.sql import SparkSession\n",
    "spark = SparkSession.builder.appName(\"SparkApp\").getOrCreate()"
   ]
  },
  {
   "cell_type": "code",
   "execution_count": 20,
   "id": "f3f756dd",
   "metadata": {},
   "outputs": [],
   "source": [
    "# Nao precisa do .format pois parquet ja eh o formato padrao\n",
    "clientes = spark.read.format(\"parquet\").load(\"/home/anycaroliny/download/Atividades/Clientes.parquet\")\n",
    "clientes.write.option(\"path\",\"/home/anycaroliny/clientes\").saveAsTable(\"tbclientes\")"
   ]
  },
  {
   "cell_type": "code",
   "execution_count": 21,
   "id": "719e19f2",
   "metadata": {},
   "outputs": [],
   "source": [
    "itens_venda = spark.read.format(\"parquet\").load(\"/home/anycaroliny/download/Atividades/ItensVendas.parquet\")\n",
    "itens_venda.write.option(\"path\",\"/home/anycaroliny/itensvenda\").saveAsTable(\"tbitensvenda\")"
   ]
  },
  {
   "cell_type": "code",
   "execution_count": 22,
   "id": "6b14ae77",
   "metadata": {},
   "outputs": [],
   "source": [
    "produtos = spark.read.format(\"parquet\").load(\"/home/anycaroliny/download/Atividades/Produtos.parquet\")\n",
    "produtos.write.option(\"path\",\"/home/anycaroliny/produtos\").saveAsTable(\"tbprodutos\")"
   ]
  },
  {
   "cell_type": "code",
   "execution_count": 23,
   "id": "c0b87072",
   "metadata": {},
   "outputs": [],
   "source": [
    "vendas = spark.read.format(\"parquet\").load(\"/home/anycaroliny/download/Atividades/Vendas.parquet\")\n",
    "vendas.write.option(\"path\",\"/home/anycaroliny/vendas\").saveAsTable(\"tbvendas\")"
   ]
  },
  {
   "cell_type": "code",
   "execution_count": 24,
   "id": "a44959a4",
   "metadata": {},
   "outputs": [],
   "source": [
    "vendedores = spark.read.format(\"parquet\").load(\"/home/anycaroliny/download/Atividades/Vendedores.parquet\")\n",
    "vendedores.write.option(\"path\",\"/home/anycaroliny/vendedores\").saveAsTable(\"tbvendedores\")"
   ]
  },
  {
   "cell_type": "code",
   "execution_count": 26,
   "id": "b155ee9d",
   "metadata": {},
   "outputs": [
    {
     "name": "stdout",
     "output_type": "stream",
     "text": [
      "+--------+----------+---------+---------+--------+\n",
      "|VendasID|VendedorID|ClienteID|     Data|   Total|\n",
      "+--------+----------+---------+---------+--------+\n",
      "|       1|         1|       91| 1/1/2019|  8053.6|\n",
      "|       2|         6|      185| 1/1/2020|   150.4|\n",
      "|       3|         7|       31| 2/1/2020|  6087.0|\n",
      "|       4|         5|       31| 2/1/2019| 13828.6|\n",
      "|       5|         5|       31| 3/1/2018|26096.66|\n",
      "|       6|         5|       31| 4/1/2020| 18402.0|\n",
      "|       7|         5|       31| 6/1/2019|  7524.2|\n",
      "|       8|         5|      186| 6/1/2019| 12036.6|\n",
      "|       9|         7|       91| 6/1/2020| 2804.75|\n",
      "|      10|         2|      202| 6/1/2020|  8852.0|\n",
      "|      11|         7|       58| 8/1/2019|16545.25|\n",
      "|      12|         7|       58| 9/1/2018|11411.88|\n",
      "|      13|         7|       58|10/1/2019| 15829.7|\n",
      "|      14|         3|      249|12/1/2020| 6154.36|\n",
      "|      15|         4|      249|12/1/2018| 3255.08|\n",
      "|      16|         7|      192|13/1/2020| 2901.25|\n",
      "|      17|         2|       79|13/1/2019| 15829.7|\n",
      "|      18|        10|       79|14/1/2019|16996.36|\n",
      "|      19|        10|      191|14/1/2019|   155.0|\n",
      "|      20|         9|      218|15/1/2018|  131.75|\n",
      "+--------+----------+---------+---------+--------+\n",
      "only showing top 20 rows\n",
      "\n"
     ]
    }
   ],
   "source": [
    "spark.sql(\"select * from tbvendas\").show()"
   ]
  },
  {
   "cell_type": "code",
   "execution_count": 33,
   "id": "452de939",
   "metadata": {
    "scrolled": true
   },
   "outputs": [
    {
     "name": "stdout",
     "output_type": "stream",
     "text": [
      "+-----------------+--------+--------------------+----------+----------------+\n",
      "|          Cliente|    Data|             Produto|ValorTotal|        Vendedor|\n",
      "+-----------------+--------+--------------------+----------+----------------+\n",
      "|   Cosme Zambujal|1/1/2019|Bicicleta Altools...|   7820.85|    Armando Lago|\n",
      "|   Cosme Zambujal|1/1/2019|Bermuda Predactor...|     97.75|    Armando Lago|\n",
      "|   Cosme Zambujal|1/1/2019|Camiseta Predacto...|     135.0|    Armando Lago|\n",
      "|Gertrudes Hidalgo|1/1/2020|Luva De Ciclismo ...|     150.4|   Iberê Lacerda|\n",
      "| Antão Corte-Real|2/1/2020|Capacete Gometws ...|     155.0|Jéssica Castelão|\n",
      "| Antão Corte-Real|2/1/2020|Bicicleta Gometws...|    5932.0|Jéssica Castelão|\n",
      "| Antão Corte-Real|2/1/2019|Bicicleta Altools...|   7820.85|  Hélio Liberato|\n",
      "| Antão Corte-Real|2/1/2019|Bermuda Predactor...|     97.75|  Hélio Liberato|\n",
      "| Antão Corte-Real|2/1/2019|Bicicleta Gometws...|    5910.0|  Hélio Liberato|\n",
      "| Antão Corte-Real|3/1/2018|Bicicleta Gometws...|    2955.0|  Hélio Liberato|\n",
      "| Antão Corte-Real|3/1/2018|Bicicleta Trinc C...|    7658.0|  Hélio Liberato|\n",
      "| Antão Corte-Real|3/1/2018|Bicicleta Aro 29 ...|    8852.0|  Hélio Liberato|\n",
      "| Antão Corte-Real|3/1/2018|Camiseta Predacto...|     121.5|  Hélio Liberato|\n",
      "| Antão Corte-Real|3/1/2018|Bicicleta Gts Adv...|   6510.16|  Hélio Liberato|\n",
      "| Antão Corte-Real|4/1/2020|Bicicleta Altools...|   18402.0|  Hélio Liberato|\n",
      "| Antão Corte-Real|6/1/2019|Bicicleta Aro 29 ...|    7524.2|  Hélio Liberato|\n",
      "|Gertrudes Infante|6/1/2019|Luva De Ciclismo ...|     376.0|  Hélio Liberato|\n",
      "|Gertrudes Infante|6/1/2019|Bicicleta Gts Adv...|   3616.75|  Hélio Liberato|\n",
      "|Gertrudes Infante|6/1/2019|Camiseta Predacto...|     108.0|  Hélio Liberato|\n",
      "|Gertrudes Infante|6/1/2019|Bermuda Predactor...|     115.0|  Hélio Liberato|\n",
      "+-----------------+--------+--------------------+----------+----------------+\n",
      "only showing top 20 rows\n",
      "\n"
     ]
    }
   ],
   "source": [
    "spark.sql(\"select tbclientes.Cliente, tbvendas.Data, tbprodutos.Produto, tbitensvenda.ValorTotal, tbvendedores.Vendedor from tbclientes join tbvendas on (tbclientes.ClienteID = tbvendas.ClienteID) join tbitensvenda on (tbvendas.VendasID = tbitensvenda.VendasID) join tbprodutos on (tbitensvenda.ProdutoID = tbprodutos.ProdutoID) join tbvendedores on (tbvendas.VendedorID = tbvendedores.VendedorID)\").show()"
   ]
  },
  {
   "cell_type": "code",
   "execution_count": null,
   "id": "79a80809",
   "metadata": {},
   "outputs": [],
   "source": []
  }
 ],
 "metadata": {
  "kernelspec": {
   "display_name": "Python 3 (ipykernel)",
   "language": "python",
   "name": "python3"
  },
  "language_info": {
   "codemirror_mode": {
    "name": "ipython",
    "version": 3
   },
   "file_extension": ".py",
   "mimetype": "text/x-python",
   "name": "python",
   "nbconvert_exporter": "python",
   "pygments_lexer": "ipython3",
   "version": "3.10.6"
  }
 },
 "nbformat": 4,
 "nbformat_minor": 5
}
