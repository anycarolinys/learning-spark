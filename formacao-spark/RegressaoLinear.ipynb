{
 "cells": [
  {
   "cell_type": "code",
   "execution_count": 48,
   "id": "21dceed2",
   "metadata": {},
   "outputs": [],
   "source": [
    "import pyspark\n",
    "from pyspark.sql import SparkSession\n",
    "spark = SparkSession.builder.appName(\"SparkApp\").getOrCreate()"
   ]
  },
  {
   "cell_type": "code",
   "execution_count": 49,
   "id": "92f35ddf",
   "metadata": {},
   "outputs": [],
   "source": [
    "from pyspark.ml.regression import LinearRegression, RandomForestRegressor\n",
    "from pyspark.ml.evaluation import RegressionEvaluator\n",
    "from pyspark.ml.feature import VectorAssembler"
   ]
  },
  {
   "cell_type": "code",
   "execution_count": 50,
   "id": "e028479a",
   "metadata": {},
   "outputs": [],
   "source": [
    "carros_temp = spark.read.csv(\"/home/anycaroliny/download/Carros.csv\", inferSchema=True, header=True, sep=\";\")"
   ]
  },
  {
   "cell_type": "code",
   "execution_count": 51,
   "id": "2d06b78a",
   "metadata": {},
   "outputs": [
    {
     "name": "stdout",
     "output_type": "stream",
     "text": [
      "+-------+---------+-----------+---------------+----+-----+---------+-----------+-------+-----------+---+\n",
      "|Consumo|Cilindros|Cilindradas|RelEixoTraseiro|Peso|Tempo|TipoMotor|Transmissao|Marchas|Carburadors| HP|\n",
      "+-------+---------+-----------+---------------+----+-----+---------+-----------+-------+-----------+---+\n",
      "|     21|        6|        160|             39| 262| 1646|        0|          1|      4|          4|110|\n",
      "|     21|        6|        160|             39|2875| 1702|        0|          1|      4|          4|110|\n",
      "|    228|        4|        108|            385| 232| 1861|        1|          1|      4|          1| 93|\n",
      "|    214|        6|        258|            308|3215| 1944|        1|          0|      3|          1|110|\n",
      "|    187|        8|        360|            315| 344| 1702|        0|          0|      3|          2|175|\n",
      "+-------+---------+-----------+---------------+----+-----+---------+-----------+-------+-----------+---+\n",
      "only showing top 5 rows\n",
      "\n"
     ]
    }
   ],
   "source": [
    "carros_temp.show(5)"
   ]
  },
  {
   "cell_type": "code",
   "execution_count": 52,
   "id": "e8e68373",
   "metadata": {},
   "outputs": [],
   "source": [
    "carros = carros_temp.select(\"Consumo\", \"Cilindros\", \"Cilindradas\", \"HP\")"
   ]
  },
  {
   "cell_type": "code",
   "execution_count": 53,
   "id": "c5782fa8",
   "metadata": {},
   "outputs": [
    {
     "name": "stdout",
     "output_type": "stream",
     "text": [
      "+-------+---------+-----------+---+\n",
      "|Consumo|Cilindros|Cilindradas| HP|\n",
      "+-------+---------+-----------+---+\n",
      "|     21|        6|        160|110|\n",
      "|     21|        6|        160|110|\n",
      "|    228|        4|        108| 93|\n",
      "|    214|        6|        258|110|\n",
      "|    187|        8|        360|175|\n",
      "|    181|        6|        225|105|\n",
      "|    143|        8|        360|245|\n",
      "|    244|        4|       1467| 62|\n",
      "|    228|        4|       1408| 95|\n",
      "|    192|        6|       1676|123|\n",
      "|    178|        6|       1676|123|\n",
      "|    164|        8|       2758|180|\n",
      "|    173|        8|       2758|180|\n",
      "|    152|        8|       2758|180|\n",
      "|    104|        8|        472|205|\n",
      "|    104|        8|        460|215|\n",
      "|    147|        8|        440|230|\n",
      "|    324|        4|        787| 66|\n",
      "|    304|        4|        757| 52|\n",
      "|    339|        4|        711| 65|\n",
      "+-------+---------+-----------+---+\n",
      "only showing top 20 rows\n",
      "\n"
     ]
    }
   ],
   "source": [
    "carros.show()"
   ]
  },
  {
   "cell_type": "code",
   "execution_count": 54,
   "id": "5e5509ac",
   "metadata": {},
   "outputs": [],
   "source": [
    "vector_caracteristicas = VectorAssembler(inputCols=[(\"Consumo\"),(\"Cilindros\"),(\"Cilindradas\")], outputCol=\"specs\")"
   ]
  },
  {
   "cell_type": "code",
   "execution_count": 55,
   "id": "2d906324",
   "metadata": {},
   "outputs": [],
   "source": [
    "vector_carros = vector_caracteristicas.transform(carros)"
   ]
  },
  {
   "cell_type": "code",
   "execution_count": 56,
   "id": "45538247",
   "metadata": {},
   "outputs": [
    {
     "name": "stdout",
     "output_type": "stream",
     "text": [
      "+-------+---------+-----------+---+------------------+\n",
      "|Consumo|Cilindros|Cilindradas| HP|             specs|\n",
      "+-------+---------+-----------+---+------------------+\n",
      "|     21|        6|        160|110|  [21.0,6.0,160.0]|\n",
      "|     21|        6|        160|110|  [21.0,6.0,160.0]|\n",
      "|    228|        4|        108| 93| [228.0,4.0,108.0]|\n",
      "|    214|        6|        258|110| [214.0,6.0,258.0]|\n",
      "|    187|        8|        360|175| [187.0,8.0,360.0]|\n",
      "|    181|        6|        225|105| [181.0,6.0,225.0]|\n",
      "|    143|        8|        360|245| [143.0,8.0,360.0]|\n",
      "|    244|        4|       1467| 62|[244.0,4.0,1467.0]|\n",
      "|    228|        4|       1408| 95|[228.0,4.0,1408.0]|\n",
      "|    192|        6|       1676|123|[192.0,6.0,1676.0]|\n",
      "|    178|        6|       1676|123|[178.0,6.0,1676.0]|\n",
      "|    164|        8|       2758|180|[164.0,8.0,2758.0]|\n",
      "|    173|        8|       2758|180|[173.0,8.0,2758.0]|\n",
      "|    152|        8|       2758|180|[152.0,8.0,2758.0]|\n",
      "|    104|        8|        472|205| [104.0,8.0,472.0]|\n",
      "|    104|        8|        460|215| [104.0,8.0,460.0]|\n",
      "|    147|        8|        440|230| [147.0,8.0,440.0]|\n",
      "|    324|        4|        787| 66| [324.0,4.0,787.0]|\n",
      "|    304|        4|        757| 52| [304.0,4.0,757.0]|\n",
      "|    339|        4|        711| 65| [339.0,4.0,711.0]|\n",
      "+-------+---------+-----------+---+------------------+\n",
      "only showing top 20 rows\n",
      "\n"
     ]
    }
   ],
   "source": [
    "vector_carros.show()"
   ]
  },
  {
   "cell_type": "code",
   "execution_count": 57,
   "id": "de5776b7",
   "metadata": {},
   "outputs": [],
   "source": [
    "carros_treino, carros_teste = vector_carros.randomSplit([0.7, 0.3])"
   ]
  },
  {
   "cell_type": "code",
   "execution_count": 58,
   "id": "b14e7b9c",
   "metadata": {},
   "outputs": [
    {
     "name": "stdout",
     "output_type": "stream",
     "text": [
      "23\n",
      "9\n"
     ]
    }
   ],
   "source": [
    "print(carros_treino.count())\n",
    "print(carros_teste.count())"
   ]
  },
  {
   "cell_type": "code",
   "execution_count": 59,
   "id": "a07201c8",
   "metadata": {},
   "outputs": [],
   "source": [
    "linear_reg = LinearRegression(featuresCol=\"specs\", labelCol=\"HP\")"
   ]
  },
  {
   "cell_type": "code",
   "execution_count": 60,
   "id": "7bd22b81",
   "metadata": {},
   "outputs": [
    {
     "name": "stdout",
     "output_type": "stream",
     "text": [
      "23/07/24 15:36:27 WARN Instrumentation: [036b1a0a] regParam is zero, which might cause numerical instability and overfitting.\n",
      "23/07/24 15:36:27 WARN InstanceBuilder$NativeBLAS: Failed to load implementation from:dev.ludovic.netlib.blas.JNIBLAS\n",
      "23/07/24 15:36:27 WARN InstanceBuilder$NativeBLAS: Failed to load implementation from:dev.ludovic.netlib.blas.ForeignLinkerBLAS\n",
      "23/07/24 15:36:27 WARN InstanceBuilder$NativeLAPACK: Failed to load implementation from:dev.ludovic.netlib.lapack.JNILAPACK\n"
     ]
    }
   ],
   "source": [
    "modelo = linear_reg.fit(carros_treino)"
   ]
  },
  {
   "cell_type": "code",
   "execution_count": 61,
   "id": "e3524dda",
   "metadata": {},
   "outputs": [],
   "source": [
    "previsao = modelo.transform(carros_teste)"
   ]
  },
  {
   "cell_type": "code",
   "execution_count": 62,
   "id": "369a3130",
   "metadata": {},
   "outputs": [
    {
     "name": "stdout",
     "output_type": "stream",
     "text": [
      "+-------+---------+-----------+---+------------------+------------------+\n",
      "|Consumo|Cilindros|Cilindradas| HP|             specs|        prediction|\n",
      "+-------+---------+-----------+---+------------------+------------------+\n",
      "|    104|        8|        460|215| [104.0,8.0,460.0]|219.09385008019643|\n",
      "|    133|        8|        350|245| [133.0,8.0,350.0]|219.05506336487593|\n",
      "|    152|        8|        304|150| [152.0,8.0,304.0]|218.69806414989236|\n",
      "|    178|        6|       1676|123|[178.0,6.0,1676.0]| 136.8272942699164|\n",
      "|    181|        6|        225|105| [181.0,6.0,225.0]|155.13470410906024|\n",
      "+-------+---------+-----------+---+------------------+------------------+\n",
      "only showing top 5 rows\n",
      "\n"
     ]
    }
   ],
   "source": [
    "previsao.show(5)"
   ]
  },
  {
   "cell_type": "code",
   "execution_count": 65,
   "id": "dbe39b74",
   "metadata": {},
   "outputs": [
    {
     "name": "stdout",
     "output_type": "stream",
     "text": [
      "37.22133721541322\n"
     ]
    }
   ],
   "source": [
    "avaliador = RegressionEvaluator(predictionCol=\"prediction\", labelCol=\"HP\", metricName=\"rmse\")\n",
    "# Root mean squared error\n",
    "rmse = avaliador.evaluate(previsao)\n",
    "print(rmse)"
   ]
  },
  {
   "cell_type": "code",
   "execution_count": 66,
   "id": "ac6bc592",
   "metadata": {},
   "outputs": [
    {
     "name": "stdout",
     "output_type": "stream",
     "text": [
      "23/07/24 15:44:53 WARN DecisionTreeMetadata: DecisionTree reducing maxBins from 32 to 23 (= number of training instances)\n"
     ]
    }
   ],
   "source": [
    "random_forest_reg = RandomForestRegressor(featuresCol=\"specs\", labelCol=\"HP\")\n",
    "modelo2 = random_forest_reg.fit(carros_treino)\n",
    "previsao2 = modelo2.transform(carros_teste)"
   ]
  },
  {
   "cell_type": "code",
   "execution_count": 70,
   "id": "1360bccd",
   "metadata": {},
   "outputs": [
    {
     "name": "stdout",
     "output_type": "stream",
     "text": [
      "+-------+---------+-----------+---+------------------+------------------+\n",
      "|Consumo|Cilindros|Cilindradas| HP|             specs|        prediction|\n",
      "+-------+---------+-----------+---+------------------+------------------+\n",
      "|    104|        8|        460|215| [104.0,8.0,460.0]|219.09385008019643|\n",
      "|    133|        8|        350|245| [133.0,8.0,350.0]|219.05506336487593|\n",
      "|    152|        8|        304|150| [152.0,8.0,304.0]|218.69806414989236|\n",
      "|    178|        6|       1676|123|[178.0,6.0,1676.0]| 136.8272942699164|\n",
      "|    181|        6|        225|105| [181.0,6.0,225.0]|155.13470410906024|\n",
      "+-------+---------+-----------+---+------------------+------------------+\n",
      "only showing top 5 rows\n",
      "\n",
      "+-------+---------+-----------+---+------------------+------------------+\n",
      "|Consumo|Cilindros|Cilindradas| HP|             specs|        prediction|\n",
      "+-------+---------+-----------+---+------------------+------------------+\n",
      "|    104|        8|        460|215| [104.0,8.0,460.0]|         184.02125|\n",
      "|    133|        8|        350|245| [133.0,8.0,350.0]|240.42184523809524|\n",
      "|    152|        8|        304|150| [152.0,8.0,304.0]|215.09476190476192|\n",
      "|    178|        6|       1676|123|[178.0,6.0,1676.0]|139.25660714285715|\n",
      "|    181|        6|        225|105| [181.0,6.0,225.0]|133.49583333333334|\n",
      "+-------+---------+-----------+---+------------------+------------------+\n",
      "only showing top 5 rows\n",
      "\n"
     ]
    }
   ],
   "source": [
    "previsao.show(5)\n",
    "previsao2.show(5)"
   ]
  },
  {
   "cell_type": "code",
   "execution_count": 74,
   "id": "7a7575ed",
   "metadata": {},
   "outputs": [
    {
     "name": "stdout",
     "output_type": "stream",
     "text": [
      "37.22133721541322\n",
      "31.98469121444896\n"
     ]
    }
   ],
   "source": [
    "rmse2 = avaliador.evaluate(previsao2)\n",
    "print(rmse)\n",
    "print(rmse2)"
   ]
  },
  {
   "cell_type": "code",
   "execution_count": null,
   "id": "7f4e39ea",
   "metadata": {},
   "outputs": [],
   "source": []
  }
 ],
 "metadata": {
  "kernelspec": {
   "display_name": "Python 3 (ipykernel)",
   "language": "python",
   "name": "python3"
  },
  "language_info": {
   "codemirror_mode": {
    "name": "ipython",
    "version": 3
   },
   "file_extension": ".py",
   "mimetype": "text/x-python",
   "name": "python",
   "nbconvert_exporter": "python",
   "pygments_lexer": "ipython3",
   "version": "3.10.6"
  }
 },
 "nbformat": 4,
 "nbformat_minor": 5
}
