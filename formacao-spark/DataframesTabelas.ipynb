{
 "cells": [
  {
   "cell_type": "code",
   "execution_count": 7,
   "id": "b8fbaa9f",
   "metadata": {},
   "outputs": [],
   "source": [
    "from pyspark.sql import functions as Func\n",
    "from pyspark.sql.functions import *\n",
    "from pyspark.sql import SparkSession\n",
    "spark = SparkSession.builder.appName(\"SparkApp\").getOrCreate()"
   ]
  },
  {
   "cell_type": "code",
   "execution_count": 8,
   "id": "3e538938",
   "metadata": {},
   "outputs": [
    {
     "name": "stderr",
     "output_type": "stream",
     "text": [
      "                                                                                \r"
     ]
    },
    {
     "name": "stdout",
     "output_type": "stream",
     "text": [
      "+--------+---------+-------+\n",
      "|col_name|data_type|comment|\n",
      "+--------+---------+-------+\n",
      "|      id|      int|   null|\n",
      "|    nome|   string|   null|\n",
      "|  status|   string|   null|\n",
      "|  cidade|   string|   null|\n",
      "|  vendas|      int|   null|\n",
      "|    data|   string|   null|\n",
      "+--------+---------+-------+\n",
      "\n"
     ]
    }
   ],
   "source": [
    "arqschema = \"id INT, nome STRING, status STRING, cidade STRING, vendas INT, data STRING\"\n",
    "despachantes_dataframe = spark.read.csv(\"/home/anycaroliny/download/despachantes.csv\",header=False, schema=arqschema)\n",
    "despachantes_dataframe.write.option(\"path\",\"/home/anycaroliny/tabela_spark\").saveAsTable(\"despachantes_tabela\")\n",
    "despachantes_dataframe\n",
    "spark.sql(\"describe despachantes_tabela\").show()"
   ]
  },
  {
   "cell_type": "code",
   "execution_count": 9,
   "id": "5274a393",
   "metadata": {},
   "outputs": [
    {
     "name": "stdout",
     "output_type": "stream",
     "text": [
      "+-------------------+------+\n",
      "|               nome|vendas|\n",
      "+-------------------+------+\n",
      "|    Deolinda Vilela|    34|\n",
      "|   Emídio Dornelles|    34|\n",
      "|Felisbela Dornelles|    36|\n",
      "|    Noêmia   Orriça|    45|\n",
      "|      Roque Vásquez|    65|\n",
      "|      Uriel Queiroz|    54|\n",
      "+-------------------+------+\n",
      "\n",
      "+-------------------+------+\n",
      "|               nome|vendas|\n",
      "+-------------------+------+\n",
      "|    Deolinda Vilela|    34|\n",
      "|   Emídio Dornelles|    34|\n",
      "|Felisbela Dornelles|    36|\n",
      "|    Noêmia   Orriça|    45|\n",
      "|      Roque Vásquez|    65|\n",
      "|      Uriel Queiroz|    54|\n",
      "+-------------------+------+\n",
      "\n"
     ]
    }
   ],
   "source": [
    "# Sintaxe para tabela\n",
    "spark.sql(\"select nome,vendas from despachantes_tabela where vendas > 30\").show()\n",
    "\n",
    "# Sintaxe para dataframe\n",
    "despachantes_dataframe.select(\"nome\",\"vendas\").where(Func.col(\"vendas\") > 30).show()"
   ]
  },
  {
   "cell_type": "code",
   "execution_count": 12,
   "id": "15e48f4c",
   "metadata": {},
   "outputs": [
    {
     "name": "stdout",
     "output_type": "stream",
     "text": [
      "+-------------+-----------+\n",
      "|       cidade|sum(vendas)|\n",
      "+-------------+-----------+\n",
      "| Porto Alegre|        223|\n",
      "|  Santa Maria|         68|\n",
      "|Novo Hamburgo|         34|\n",
      "+-------------+-----------+\n",
      "\n",
      "+-------------+-----------+\n",
      "|       cidade|sum(vendas)|\n",
      "+-------------+-----------+\n",
      "| Porto Alegre|        223|\n",
      "|  Santa Maria|         68|\n",
      "|Novo Hamburgo|         34|\n",
      "+-------------+-----------+\n",
      "\n"
     ]
    }
   ],
   "source": [
    "# Agrupando a quantidade de vendas por cidade\n",
    "# ordenando decrescentemente de acordo com a \n",
    "# coluna de soma de vendas de indice 2\n",
    "spark.sql(\"select cidade, sum(vendas) from despachantes_tabela group by cidade order by 2 desc\").show()\n",
    "\n",
    "\n",
    "despachantes_dataframe.groupBy(\"cidade\").agg(sum(\"vendas\")).orderBy(Func.col(\"sum(vendas)\").desc()).show()"
   ]
  },
  {
   "cell_type": "code",
   "execution_count": null,
   "id": "da36d505",
   "metadata": {},
   "outputs": [],
   "source": [
    "|"
   ]
  }
 ],
 "metadata": {
  "kernelspec": {
   "display_name": "Python 3 (ipykernel)",
   "language": "python",
   "name": "python3"
  },
  "language_info": {
   "codemirror_mode": {
    "name": "ipython",
    "version": 3
   },
   "file_extension": ".py",
   "mimetype": "text/x-python",
   "name": "python",
   "nbconvert_exporter": "python",
   "pygments_lexer": "ipython3",
   "version": "3.10.6"
  }
 },
 "nbformat": 4,
 "nbformat_minor": 5
}
